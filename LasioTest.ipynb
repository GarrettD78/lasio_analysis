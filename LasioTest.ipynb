{
 "cells": [
  {
   "cell_type": "code",
   "execution_count": 1,
   "metadata": {},
   "outputs": [],
   "source": [
    "import os\n",
    "import lasio\n",
    "import numpy as np\n",
    "import pandas as pd\n",
    "\n",
    "import dash\n",
    "import dash_core_components as dcc\n",
    "from dash.dependencies import Input,Output\n",
    "import dash_html_components as html\n",
    "import plotly.graph_objs as go\n",
    "import jupyterlab_dash"
   ]
  },
  {
   "cell_type": "code",
   "execution_count": 2,
   "metadata": {},
   "outputs": [],
   "source": [
    "viewer = jupyterlab_dash.AppViewer()\n",
    "\n"
   ]
  },
  {
   "cell_type": "code",
   "execution_count": 20,
   "metadata": {},
   "outputs": [
    {
     "name": "stdout",
     "output_type": "stream",
     "text": [
      "Logged depth\n",
      "Annular Volume\n",
      "Bit size\n",
      "MCG External Temperature\n",
      "Density Correction\n",
      "Corrected Deep Laterolog\n",
      "Deep Laterolog\n",
      "Compensated Density\n",
      "Imager Diameter 2 - 6\n",
      "Imager Diameter 4 - 8\n",
      "Base Density Porosity\n",
      "Dolomite Density Por.\n",
      "Limestone Density Por.\n",
      "Sandstone Density Por.\n",
      "Corr. Shallow Laterolog\n",
      "Shallow Laterolog\n",
      "3-5' Compensated Sonic\n",
      "MCG BH Corrected Gamma\n",
      "Uranium Stripped Gamma\n",
      "MSG BH Corrected Gamma\n",
      "Potassium Gamma\n",
      "Thorium Gamma\n",
      "Uranium Gamma\n",
      "Vectar Processed Density\n",
      "Hole Volume\n",
      "MIE Caliper X\n",
      "MIE Caliper Y\n",
      "MicroRes Resistance (S)\n",
      "Corr MicroRes Resis. (S)\n",
      "Base Neutron Porosity\n",
      "Dolomite Neutron Por.\n",
      "Limestone Neutron Por.\n",
      "Sandstone Neutron Por.\n",
      "PE\n",
      "Effective porosity\n",
      "Apparent Water Res.\n",
      "DST Uphole Tension\n",
      "Spontaneous Potential\n",
      "\n",
      "Virgin zone water saturation\n",
      "Invaded zone water saturation\n",
      "Apparent matrix volumetric photoelectric factor for U or PEF\n",
      "Name for mineral 2 output volume (default calcite)\n",
      "Name for mineral 3 output volume (default dolomite)\n",
      "Name for mineral 1 output volume (default quartz)\n",
      "Final computation of Shale volume fraction\n",
      "Volume fraction of water in the virgin zone\n",
      "Volume fraction of water in the invaded zone\n",
      "Crossplot Porosity\n"
     ]
    }
   ],
   "source": [
    "las = lasio.read('EASTLAND_SHANNON HOSPITAL 1 _6_18087-234889821_MMA.las')\n",
    "\n",
    "mnemonics = las.curves.keys()\n",
    "descriptions = [las.curves[mnemonic]['descr'] for mnemonic in mnemonics]\n",
    "curves = [{'mnemonic':mnemonic,'descr':descr}\n",
    "            for mnemonic, descr in zip(mnemonics, descriptions)\n",
    "         ]\n",
    "for curve in curves:\n",
    "       print (curve['descr'])\n",
    "        \n"
   ]
  },
  {
   "cell_type": "code",
   "execution_count": null,
   "metadata": {},
   "outputs": [],
   "source": [
    "for s in las.curves.keys():\n",
    "    print (s)\n",
    "    "
   ]
  },
  {
   "cell_type": "code",
   "execution_count": 4,
   "metadata": {},
   "outputs": [
    {
     "data": {
      "text/plain": [
       "Float64Index([5200.0, 5200.5, 5201.0, 5201.5, 5202.0, 5202.5, 5203.0, 5203.5,\n",
       "              5204.0, 5204.5,\n",
       "              ...\n",
       "              6029.0, 6029.5, 6030.0, 6030.5, 6031.0, 6031.5, 6032.0, 6032.5,\n",
       "              6033.0, 6033.5],\n",
       "             dtype='float64', name='DEPT', length=1668)"
      ]
     },
     "execution_count": 4,
     "metadata": {},
     "output_type": "execute_result"
    }
   ],
   "source": [
    "log_data = las.df()\n",
    "\n",
    "log_data.index"
   ]
  },
  {
   "cell_type": "code",
   "execution_count": 30,
   "metadata": {},
   "outputs": [],
   "source": [
    "\n",
    "app = dash.Dash()\n",
    "app.layout = html.Div(children=[\n",
    "    html.Div(children='''Curve Graph'''),\n",
    "        dcc.Dropdown(id='curveGraph',\n",
    "                    options=[{'label':s['descr'],'value':s['mnemonic']}\n",
    "                            for s in curves],\n",
    "                            value= 'Curves in LAS',\n",
    "                            multi=False),\n",
    "        dcc.Graph(\n",
    "                id='log-graph'\n",
    "                )\n",
    "])\n",
    "\n",
    "\n",
    "@app.callback(\n",
    "    Output('log-graph','figure'),\n",
    "    [Input(component_id='curveGraph',component_property='value')]\n",
    ")\n",
    "def update_graph(curveRequested):  \n",
    "    curve1 = go.Scatter(\n",
    "            y = log_data.index,\n",
    "            x = log_data[curveRequested],\n",
    "            name = 'DDLL'\n",
    "            )\n",
    "\n",
    "    data = [curve1]\n",
    "\n",
    "    graphLayout = go.Layout(\n",
    "                    title='Log',\n",
    "                    yaxis = dict(\n",
    "                        autorange = 'reversed',\n",
    "                        automargin=True\n",
    "                                ),\n",
    "                    autosize=False,\n",
    "                    height=1000\n",
    "                    )\n",
    "\n",
    "    fig = {'data':data,'layout':graphLayout}\n",
    "    \n",
    "    return fig\n",
    "\n",
    "  \n",
    "viewer.show(app)"
   ]
  },
  {
   "cell_type": "code",
   "execution_count": null,
   "metadata": {},
   "outputs": [],
   "source": []
  }
 ],
 "metadata": {
  "kernelspec": {
   "display_name": "Python 3",
   "language": "python",
   "name": "python3"
  },
  "language_info": {
   "codemirror_mode": {
    "name": "ipython",
    "version": 3
   },
   "file_extension": ".py",
   "mimetype": "text/x-python",
   "name": "python",
   "nbconvert_exporter": "python",
   "pygments_lexer": "ipython3",
   "version": "3.6.8"
  }
 },
 "nbformat": 4,
 "nbformat_minor": 2
}
